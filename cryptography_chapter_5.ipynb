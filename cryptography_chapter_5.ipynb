{
  "nbformat": 4,
  "nbformat_minor": 0,
  "metadata": {
    "colab": {
      "name": "cryptography-chapter-5.ipynb",
      "private_outputs": true,
      "provenance": [],
      "authorship_tag": "ABX9TyN20ASNHn36fY73VyfYgWSd",
      "include_colab_link": true
    },
    "kernelspec": {
      "name": "python3",
      "display_name": "Python 3"
    }
  },
  "cells": [
    {
      "cell_type": "markdown",
      "metadata": {
        "id": "view-in-github",
        "colab_type": "text"
      },
      "source": [
        "<a href=\"https://colab.research.google.com/github/kevinrchilders/computational-number-theory/blob/master/cryptography_chapter_5.ipynb\" target=\"_parent\"><img src=\"https://colab.research.google.com/assets/colab-badge.svg\" alt=\"Open In Colab\"/></a>"
      ]
    },
    {
      "cell_type": "code",
      "metadata": {
        "id": "T2-QvPQS41v9"
      },
      "source": [
        "import numpy as np\r\n",
        "from collections import Counter"
      ],
      "execution_count": null,
      "outputs": []
    },
    {
      "cell_type": "markdown",
      "metadata": {
        "id": "zyhLklCEAvm6"
      },
      "source": [
        "# Vigenere cipher"
      ]
    },
    {
      "cell_type": "code",
      "metadata": {
        "id": "CTm_vQOD5PkQ"
      },
      "source": [
        "# We will attempt to decrypt the following message\r\n",
        "\r\n",
        "message = 'zpgdl rjlaj kpylx zpyyg lrjgd lrzhz qyjzq repvm swrzy rigzh zvreg kwivs saolt nliuw oldie aqewf iiykh bjowr hdogc qhkwa jyagg emisr zqoqh oavlk bjofr ylvps rtgiu avmsw lzgms evwpc dmjsv jqbrn klpcf iowhv kxjbj pmfkr qthtk ozrgq ihbmq sbivd ardym qmpbu nivxm tzwqv gefjh ucbor vwpcd xuwft qmoow jipds fluqm oeavl jgqea lrkti wvext vkrrg xani'\r\n",
        "message = message.replace(' ', '')\r\n",
        "message"
      ],
      "execution_count": null,
      "outputs": []
    },
    {
      "cell_type": "code",
      "metadata": {
        "id": "wY6967zF5Yji"
      },
      "source": [
        "# An analysis of the letter frequencies\r\n",
        "\r\n",
        "counter = Counter(message)\r\n",
        "counter.most_common()\r\n",
        "print('total number of characters:', len(counter.most_common()))\r\n",
        "print('letter and percent frequency:')\r\n",
        "for (ch, i) in counter.most_common():\r\n",
        "  print(ch, round(100*i/len(message), 1))"
      ],
      "execution_count": null,
      "outputs": []
    },
    {
      "cell_type": "code",
      "metadata": {
        "id": "eKY0nvrz5gFw"
      },
      "source": [
        "# An analysis of letter frequencies for a block of Shakespeare text\r\n",
        "\r\n",
        "shake = 'From Fife, great king; Where the Norweyan banners flout the sky And fan our people cold. Norway himself, With terrible numbers, Assisted by that most disloyal traitor The thane of Cawdor, began a dismal conflict; Till that Bellonas bridegroom, lappd in proof, Confronted him with self-comparisons, Point against point rebellious, arm gainst arm. Curbing his lavish spirit: and, to conclude, The victory fell on us. Doubtful it stood;As two spent swimmers, that do cling togetherAnd choke their art. The merciless Macdonwald--Worthy to be a rebel, for to thatThe multiplying villanies of natureDo swarm upon him--from the western islesOf kerns and gallowglasses is supplied;And fortune, on his damned quarrel smiling,Showd like a rebels whore: but alls too weak:For brave Macbeth--well he deserves that name--Disdaining fortune, with his brandishd steel,Which smoked with bloody execution,Like valours minion carved out his passageTill he faced the slave;Which neer shook hands, nor bade farewell to him,Till he unseamd him from the nave to the chaps,And fixd his head upon our battlements.'\r\n",
        "shake = shake.lower()\r\n",
        "shake = shake.replace(',', '')\r\n",
        "shake = shake.replace('.', '')\r\n",
        "shake = shake.replace('-', '')\r\n",
        "shake = shake.replace(';', '')\r\n",
        "shake = shake.replace(':', '')\r\n",
        "shake = shake.replace(' ', '')\r\n",
        "counter = Counter(shake)\r\n",
        "counter.most_common()\r\n",
        "print('total number of characters:', len(counter.most_common()))\r\n",
        "print('letter and percent frequency:')\r\n",
        "for (ch, i) in counter.most_common():\r\n",
        "  print(ch, round(100*i/len(message), 1))"
      ],
      "execution_count": null,
      "outputs": []
    },
    {
      "cell_type": "code",
      "metadata": {
        "id": "2LhnCMcq7Jzr"
      },
      "source": [
        "# A function for computing the index of coincidence (the probability that two randomly chosen characters will match)\r\n",
        "# For a random string ind_co(s) ~ 0.0385\r\n",
        "# For the English language ind_co(s) ~ 0.0685\r\n",
        "\r\n",
        "def ind_co(s):\r\n",
        "  counter = Counter(s)\r\n",
        "  frequencies = np.array(list(counter.values()))\r\n",
        "  n = len(s)\r\n",
        "  return np.sum(frequencies * (frequencies -1)) / n / (n-1)"
      ],
      "execution_count": null,
      "outputs": []
    },
    {
      "cell_type": "code",
      "metadata": {
        "id": "vV6V_Wd4_Noy"
      },
      "source": [
        "ind_co(message)"
      ],
      "execution_count": null,
      "outputs": []
    },
    {
      "cell_type": "code",
      "metadata": {
        "id": "NeBT8NEb_PpG"
      },
      "source": [
        "ind_co(shake)"
      ],
      "execution_count": null,
      "outputs": []
    },
    {
      "cell_type": "code",
      "metadata": {
        "id": "rnNNWjCN_ROD"
      },
      "source": [
        "# An attempt to guess the length of the keyword used for a Vigenere cipher using index of coincidence\r\n",
        "\r\n",
        "for k in range(3, 10):\r\n",
        "  print('k=', k, '---------------')\r\n",
        "  for i in range(k):\r\n",
        "    print(ind_co(message[i::k]))"
      ],
      "execution_count": null,
      "outputs": []
    },
    {
      "cell_type": "code",
      "metadata": {
        "id": "ZX4KFhbzASii"
      },
      "source": [
        "k = "
      ],
      "execution_count": null,
      "outputs": []
    },
    {
      "cell_type": "code",
      "metadata": {
        "id": "GY_HFgxwB0N7"
      },
      "source": [
        "def shift(s, sigma):\r\n",
        "  alphabet = 'abcdefghijklmnopqrstuvwxyz'\r\n",
        "  t=''\r\n",
        "  for i in range(len(s)):\r\n",
        "    t = t + alphabet[(alphabet.find(s[i])+sigma) % 26]\r\n",
        "  return t\r\n",
        "\r\n",
        "def mult_ind_co(s, t):\r\n",
        "  cs = Counter(s)\r\n",
        "  n = len(s)\r\n",
        "  ct = Counter(t)\r\n",
        "  m = len(t)\r\n",
        "  return np.sum([cs[key] * ct[key] for key in (cs+ct).keys()]) / n / m"
      ],
      "execution_count": null,
      "outputs": []
    },
    {
      "cell_type": "code",
      "metadata": {
        "id": "cpNAIsB-DuHY"
      },
      "source": [
        "mult_ind_co(message, shake)"
      ],
      "execution_count": null,
      "outputs": []
    },
    {
      "cell_type": "code",
      "metadata": {
        "id": "76Lwr0KLDyHN"
      },
      "source": [
        "# Use mult_ind_co to find probable shifts differences between strings si=message[i::k] as i varies\r\n",
        "\r\n",
        "for i in range(k-1):\r\n",
        "  print('i =', i, '----------------------')\r\n",
        "  for j in range(i+1,k):\r\n",
        "    for sigma in range(26):\r\n",
        "      mic = mult_ind_co(shift(message[i::k], sigma), message[j::k])\r\n",
        "      if mic > 0.06:\r\n",
        "        print('j =', j, ', shift =', sigma, ':', mic)"
      ],
      "execution_count": null,
      "outputs": []
    },
    {
      "cell_type": "code",
      "metadata": {
        "id": "04rjR5feD8cU"
      },
      "source": [
        "# Attempt to find the keyword using most probable shifts\r\n",
        "\r\n",
        "alp = 'abcdefghijklmnopqrstuvwxyz'\r\n",
        "\r\n",
        "base = alp[] + alp[] + alp[] + alp[] + alp[] + alp[] + alp[]\r\n",
        "for sigma in range(26):\r\n",
        "  print(shift(base, sigma))"
      ],
      "execution_count": null,
      "outputs": []
    },
    {
      "cell_type": "code",
      "metadata": {
        "id": "pZABWrc6FkfT"
      },
      "source": [
        "# functions to encrypt/decrypt using a Vigenere cipher\r\n",
        "\r\n",
        "def vig_encrypt(message, keyword):\r\n",
        "  alphabet = 'abcdefghijklmnopqrstuvwxyz'\r\n",
        "  n = len(message)\r\n",
        "  k = len(keyword)\r\n",
        "  c = ''\r\n",
        "  for i in range(n):\r\n",
        "    c = c + alphabet[(alphabet.find(message[i]) + alphabet.find(keyword[i%k])) % 26]\r\n",
        "  return c\r\n",
        "\r\n",
        "def vig_decrypt(message, keyword):\r\n",
        "  alphabet = 'abcdefghijklmnopqrstuvwxyz'\r\n",
        "  n = len(message)\r\n",
        "  k = len(keyword)\r\n",
        "  c = ''\r\n",
        "  for i in range(n):\r\n",
        "    c = c + alphabet[(alphabet.find(message[i]) - alphabet.find(keyword[i%k])) % 26]\r\n",
        "  return c"
      ],
      "execution_count": null,
      "outputs": []
    },
    {
      "cell_type": "code",
      "metadata": {
        "id": "O6peX3dOI58D"
      },
      "source": [
        "vig_decrypt(message, )"
      ],
      "execution_count": null,
      "outputs": []
    },
    {
      "cell_type": "code",
      "metadata": {
        "id": "DReIZ1ADI-iP"
      },
      "source": [
        ""
      ],
      "execution_count": null,
      "outputs": []
    }
  ]
}