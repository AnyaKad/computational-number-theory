{
  "nbformat": 4,
  "nbformat_minor": 0,
  "metadata": {
    "colab": {
      "name": "cryptography-chapter-6.ipynb",
      "private_outputs": true,
      "provenance": [],
      "authorship_tag": "ABX9TyNM5dmoR//WcZJtZFYLxGYB",
      "include_colab_link": true
    },
    "kernelspec": {
      "name": "python3",
      "display_name": "Python 3"
    }
  },
  "cells": [
    {
      "cell_type": "markdown",
      "metadata": {
        "id": "view-in-github",
        "colab_type": "text"
      },
      "source": [
        "<a href=\"https://colab.research.google.com/github/kevinrchilders/computational-number-theory/blob/master/cryptography_chapter_6.ipynb\" target=\"_parent\"><img src=\"https://colab.research.google.com/assets/colab-badge.svg\" alt=\"Open In Colab\"/></a>"
      ]
    },
    {
      "cell_type": "code",
      "metadata": {
        "id": "WuP2Q3Cw0W1T"
      },
      "source": [
        "import matplotlib.pyplot as plt\r\n",
        "import numpy as np\r\n",
        "import random"
      ],
      "execution_count": null,
      "outputs": []
    },
    {
      "cell_type": "code",
      "metadata": {
        "id": "FvABkfOoG8EN"
      },
      "source": [
        "# Fast powering algorithm, gcd algorithms, etc.\r\n",
        "\r\n",
        "def binary(n):\r\n",
        "  binary_repn = []\r\n",
        "  if n > 1:\r\n",
        "    binary_repn = binary(n // 2)\r\n",
        "  binary_repn.append(n % 2)\r\n",
        "  return binary_repn\r\n",
        "\r\n",
        "def power(g, A, N):\r\n",
        "  A = binary(A)\r\n",
        "  total=1\r\n",
        "  for i in range(len(A)):\r\n",
        "    if A[len(A)-i-1]:\r\n",
        "      total = (total*g) % N\r\n",
        "    g = (g*g) % N\r\n",
        "  return total\r\n",
        "\r\n",
        "def gcd(a, b):\r\n",
        "  return a if b==0 else gcd(b, a%b)\r\n",
        "\r\n",
        "def extended_gcd(a, b):\r\n",
        "  u, g, x, y = 1, a, 0, b\r\n",
        "  while y != 0:\r\n",
        "    q, t = g // y, g % y\r\n",
        "    s = u - q*x\r\n",
        "    u, g = x, y\r\n",
        "    x, y = s, t\r\n",
        "  v = (g - a*u) // b \r\n",
        "  return g, u, v\r\n",
        "\r\n",
        "def inverse(a, p):\r\n",
        "  g, u, v = extended_gcd(a, p)\r\n",
        "  if g==1:\r\n",
        "    return u\r\n",
        "\r\n",
        "def order(a, p):\r\n",
        "  n = 1\r\n",
        "  x = a\r\n",
        "  while power(a, n, p) != 1:\r\n",
        "    x = (x * a) % p\r\n",
        "    n += 1\r\n",
        "  return n\r\n",
        "\r\n",
        "def is_primitive(a, p):\r\n",
        "  return order(a, p) == p-1\r\n",
        "\r\n",
        "def is_mrprime(n, trials=50):\r\n",
        "  for i in range(trials):\r\n",
        "    a = random.randint(1, n-1)\r\n",
        "    if is_mrwitness(a, n):\r\n",
        "      return False\r\n",
        "  return True\r\n",
        "\r\n",
        "def generate_prime(digits, attempts=100):\r\n",
        "  N = 2 * 3 * 5\r\n",
        "  for K in range(int(10**(digits)/N), int(10**(digits)/N)+attempts):\r\n",
        "    if is_mrprime(N*K + 1):\r\n",
        "      return N*K + 1\r\n",
        "  print('No primes found. Try more attempts.')\r\n",
        "  return None\r\n",
        "\r\n",
        "def is_mrwitness(a, n):\r\n",
        "  # If a and n have a common factor, then n is composite\r\n",
        "  if gcd(a, n) != 1:\r\n",
        "    return True\r\n",
        "\r\n",
        "  # Write n-1 = 2^k*q with q odd\r\n",
        "  k=0\r\n",
        "  q=n-1\r\n",
        "  while q%2 == 0:\r\n",
        "    k += 1\r\n",
        "    q = q//2\r\n",
        "  \r\n",
        "  # If a^q == 1 (mod n) then a is not a Miller-Rabin witness for n\r\n",
        "  a = power(a, q, n)\r\n",
        "  if a == 1:\r\n",
        "    return False\r\n",
        "  \r\n",
        "  # If a^(2^iq) == -1 (mod n) for some i<k then a is not a Miller-Rabin witness for n\r\n",
        "  for i in range(k):\r\n",
        "    if a == n-1:\r\n",
        "      return False\r\n",
        "    a = power(a, 2, n)\r\n",
        "\r\n",
        "  return True # Otherwise a is a Miller-Rabin witness for n\r\n",
        "\r\n",
        "def pollard(N, a=2, maxn=1000000):\r\n",
        "  for j in range(2, maxn):\r\n",
        "    a = power(a, j, N)\r\n",
        "    d = gcd(a-1, N)\r\n",
        "    if d != 1 and d != N:\r\n",
        "      return d\r\n",
        "  print('Test failed, try a larger maxn.')\r\n",
        "  return None\r\n",
        "\r\n",
        "def find_primitive(p):\r\n",
        "  a = 2\r\n",
        "  while not is_primitive(a, p):\r\n",
        "    a += 1\r\n",
        "  return a"
      ],
      "execution_count": null,
      "outputs": []
    },
    {
      "cell_type": "markdown",
      "metadata": {
        "id": "W1xrnXGk8E8y"
      },
      "source": [
        "# Addition on elliptic curves"
      ]
    },
    {
      "cell_type": "code",
      "metadata": {
        "id": "3f0_9Bxu0bdc"
      },
      "source": [
        "# An algorithm for adding points P and Q on an elliptic curve\r\n",
        "# with Weierstrauss equation Y^2 = X^3 + A*X + B\r\n",
        "\r\n",
        "def ec_add(P, Q, A, B):\r\n",
        "  if P == 'O':\r\n",
        "    return Q\r\n",
        "  if Q == 'O':\r\n",
        "    return P\r\n",
        "  x1, y1 = P\r\n",
        "  x2, y2 = Q\r\n",
        "  if x1 == x2:\r\n",
        "    if y1 == -1 * y2:\r\n",
        "      return 'O' \r\n",
        "    slope = (3*x1*x1 + A)/2/y1\r\n",
        "  else:\r\n",
        "    slope = (y2 - y1)/(x2 - x1)\r\n",
        "  x3 = slope**2 - x1 - x2\r\n",
        "  y3 = slope*(x1 - x3) - y1\r\n",
        "  return (x3, y3)"
      ],
      "execution_count": null,
      "outputs": []
    },
    {
      "cell_type": "code",
      "metadata": {
        "id": "7dwJIfvz2EeJ"
      },
      "source": [
        "# A plot of Y^2 = X^3 - X + 6\r\n",
        "\r\n",
        "A = -1\r\n",
        "B = 6\r\n",
        "X1 = np.linspace(-2,4,601)\r\n",
        "X2 = np.flip(X1)[:-1]\r\n",
        "X = np.concatenate((X2, X1))\r\n",
        "Y1 = np.sqrt(X1**3 + A*X1 + B)\r\n",
        "Y2 = -1*np.sqrt(X2**3 + A*X2 + B)\r\n",
        "Y = np.concatenate((Y2, Y1))\r\n",
        "\r\n",
        "plt.figure(figsize=(12,8))\r\n",
        "plt.plot(X, Y)"
      ],
      "execution_count": null,
      "outputs": []
    },
    {
      "cell_type": "code",
      "metadata": {
        "id": "COQnv36v3Qqf"
      },
      "source": [
        "# Some sample additions\r\n",
        "O = 'O'\r\n",
        "ec_add(O, O, A, B)"
      ],
      "execution_count": null,
      "outputs": []
    },
    {
      "cell_type": "code",
      "metadata": {
        "id": "aFjE5W9049E2"
      },
      "source": [
        "P = (-2, 0)\r\n",
        "ec_add(P, O, A, B)"
      ],
      "execution_count": null,
      "outputs": []
    },
    {
      "cell_type": "code",
      "metadata": {
        "id": "csrQsLuW5PbG"
      },
      "source": [
        "ec_add(O, P, A, B)"
      ],
      "execution_count": null,
      "outputs": []
    },
    {
      "cell_type": "code",
      "metadata": {
        "id": "MdkXS93d5TBZ"
      },
      "source": [
        "ec_add(P, P, A, B)"
      ],
      "execution_count": null,
      "outputs": []
    },
    {
      "cell_type": "code",
      "metadata": {
        "id": "wFZn3JFx5WEH"
      },
      "source": [
        "Q = (3, -1*np.sqrt(3**3 + A*3 + B))\r\n",
        "sum = ec_add(P, Q, A, B)"
      ],
      "execution_count": null,
      "outputs": []
    },
    {
      "cell_type": "code",
      "metadata": {
        "id": "VCbsadrx5w4S"
      },
      "source": [
        "# A plot to show that P + Q = sum\r\n",
        "plt.figure(figsize=(12,8))\r\n",
        "plt.plot(X, Y)\r\n",
        "plt.plot(*zip(P, Q))\r\n",
        "plt.plot([sum[0], sum[0]], [sum[1],-1*sum[1]])\r\n",
        "plt.scatter(*zip(P, Q, sum))"
      ],
      "execution_count": null,
      "outputs": []
    },
    {
      "cell_type": "code",
      "metadata": {
        "id": "yKs5vz1V6jT0"
      },
      "source": [
        "# Check of associativity\r\n",
        "R = (1, np.sqrt(1**3 + A*1 + B))\r\n",
        "ec_add(P, ec_add(Q, R, A, B), A, B), ec_add(ec_add(P, Q, A, B), R, A, B)"
      ],
      "execution_count": null,
      "outputs": []
    },
    {
      "cell_type": "markdown",
      "metadata": {
        "id": "ZCiuGcZ0FJF5"
      },
      "source": [
        "# Elliptic curves over finite fields"
      ]
    },
    {
      "cell_type": "code",
      "metadata": {
        "id": "h1nCC4NQ7JWX"
      },
      "source": [
        "# An algorithm for adding points P and Q on an elliptic curve\r\n",
        "# with Weierstrauss equation Y^2 = X^3 + A*X + B (mod p)\r\n",
        "\r\n",
        "def ecp_add(P, Q, A, B, p):\r\n",
        "  if P == 'O':\r\n",
        "    return Q\r\n",
        "  if Q == 'O':\r\n",
        "    return P\r\n",
        "  x1, y1 = P\r\n",
        "  x2, y2 = Q\r\n",
        "  x1, y1, x2, y2 = x1%p, y1%p, x2%p, y2%p\r\n",
        "  if x1 == x2:\r\n",
        "    if y1 == (-1 * y2) % p:\r\n",
        "      return 'O' \r\n",
        "    slope = ((3*x1*x1 + A)*inverse(2*y1,p)) % p\r\n",
        "  else:\r\n",
        "    slope = ((y2 - y1)*inverse(x2 - x1, p)) % p\r\n",
        "  x3 = (slope**2 - x1 - x2) % p\r\n",
        "  y3 = (slope*(x1 - x3) - y1) % p\r\n",
        "  return (x3, y3)"
      ],
      "execution_count": null,
      "outputs": []
    },
    {
      "cell_type": "code",
      "metadata": {
        "id": "p8UilQ9AHNFX"
      },
      "source": [
        "# Y^2 = X^3 +3*X + 8 over F_13\r\n",
        "p = 13\r\n",
        "A = 3\r\n",
        "B = 8\r\n",
        "\r\n",
        "P = (1, 5)\r\n",
        "Q = (1, 8)\r\n",
        "ecp_add(O, O, A, B, p), ecp_add(P, O, A, B, p), ecp_add(P, Q, A, B, p)"
      ],
      "execution_count": null,
      "outputs": []
    },
    {
      "cell_type": "code",
      "metadata": {
        "id": "A89nXFGxIJ0v"
      },
      "source": [
        "# Here's a plot.  It looks strangely similar to a few points on a characteristic 0 elliptic curve.\r\n",
        "\r\n",
        "E = [(1, 5), (1, 8), (2, 3), (2, 10), (9, 6), (9, 7), (12, 2), (12, 11), 'O']\r\n",
        "plt.figure(figsize=(12,8))\r\n",
        "plt.scatter(*zip(*E[:-1]))"
      ],
      "execution_count": null,
      "outputs": []
    },
    {
      "cell_type": "code",
      "metadata": {
        "id": "eaNeY90GJHfE"
      },
      "source": [
        "# An algorithm for finding all points on a curve Y^2 = X^3 + A*X + B over F_p\r\n",
        "\r\n",
        "def ecp_find_points(A, B, p):\r\n",
        "  roots = {0:[0]}\r\n",
        "  for i in range(1,(p+1)//2):\r\n",
        "    roots[power(i, 2, p)] = [i, (-1*i)%p]\r\n",
        "  E = []\r\n",
        "  for x in range(p):\r\n",
        "    y_squared = (x**3 + A*x + B) % p\r\n",
        "    if y_squared in roots.keys():\r\n",
        "      for y in roots[y_squared]:\r\n",
        "        E = E + [(x, y)]\r\n",
        "  return E + ['O']"
      ],
      "execution_count": null,
      "outputs": []
    },
    {
      "cell_type": "code",
      "metadata": {
        "id": "Ct6inRB3MeQH"
      },
      "source": [
        "ecp_find_points(3, 8, 13)"
      ],
      "execution_count": null,
      "outputs": []
    },
    {
      "cell_type": "code",
      "metadata": {
        "id": "4rDRuVzHMiGy"
      },
      "source": [
        "# With a bigger example, we can see that the above example was just a coincidence.\r\n",
        "\r\n",
        "E = ecp_find_points(3, 8, 1009)\r\n",
        "plt.figure(figsize=(12,8))\r\n",
        "plt.scatter(*zip(*E[:-1]))"
      ],
      "execution_count": null,
      "outputs": []
    },
    {
      "cell_type": "markdown",
      "metadata": {
        "id": "SnhyKohBjSHs"
      },
      "source": [
        "# Multiples of points on elliptic curves over $\\mathbb F_p$"
      ]
    },
    {
      "cell_type": "code",
      "metadata": {
        "id": "Y0ogDGeNQl8N"
      },
      "source": [
        "# Reminder of our square-and-multiply algorithm for fast powers in F_p\r\n",
        "# and a similar double-and-add algorithm for fast multiples in E(F_p)\r\n",
        "\r\n",
        "def binary(n):\r\n",
        "  binary_repn = []\r\n",
        "  if n > 1:\r\n",
        "    binary_repn = binary(n // 2)\r\n",
        "  binary_repn.append(n % 2)\r\n",
        "  return binary_repn\r\n",
        "\r\n",
        "def power(g, A, N):\r\n",
        "  A = binary(A)\r\n",
        "  total=1\r\n",
        "  for i in range(len(A)):\r\n",
        "    if A[len(A)-i-1]:\r\n",
        "      total = (total*g) % N\r\n",
        "    g = (g*g) % N\r\n",
        "  return total\r\n",
        "\r\n",
        "def ecp_multiple(P, n, A, B, p):\r\n",
        "  n = binary(n)\r\n",
        "  total = 'O'\r\n",
        "  for i in range(len(n)):\r\n",
        "    if n[len(n)-i-1]:\r\n",
        "      total = ecp_add(total, P, A, B, p)\r\n",
        "    P = ecp_add(P, P, A, B, p)\r\n",
        "  return total"
      ],
      "execution_count": null,
      "outputs": []
    },
    {
      "cell_type": "code",
      "metadata": {
        "id": "s2j_wbmFjt_2"
      },
      "source": [
        "# An example\r\n",
        "P = (1, 5)\r\n",
        "A = 3\r\n",
        "B = 8\r\n",
        "p = 13\r\n",
        "O = 'O'\r\n",
        "ecp_add(ecp_add(P, P, A, B, p), P, A, B, p)"
      ],
      "execution_count": null,
      "outputs": []
    },
    {
      "cell_type": "code",
      "metadata": {
        "id": "GEwTmyYcj03c"
      },
      "source": [
        "ecp_multiple(P, 3, A, B, p)"
      ],
      "execution_count": null,
      "outputs": []
    },
    {
      "cell_type": "markdown",
      "metadata": {
        "id": "QL1SX5Jey54G"
      },
      "source": [
        "# Elliptic curve factorization"
      ]
    },
    {
      "cell_type": "code",
      "metadata": {
        "id": "Os2K_DQekxv1"
      },
      "source": [
        "A = 3\r\n",
        "B = 7\r\n",
        "N = 187\r\n",
        "P = (38, 112)\r\n",
        "P2 = ecp_add(P, P, A, B, N)\r\n",
        "P2"
      ],
      "execution_count": null,
      "outputs": []
    },
    {
      "cell_type": "code",
      "metadata": {
        "id": "5wvBjgXmzFdE"
      },
      "source": [
        "P3 = ecp_add(P, P2, A, B, N)\r\n",
        "P3"
      ],
      "execution_count": null,
      "outputs": []
    },
    {
      "cell_type": "code",
      "metadata": {
        "id": "NLJgBcPmzMs_"
      },
      "source": [
        "P5 = ecp_add(P2, P3, A, B, N)"
      ],
      "execution_count": null,
      "outputs": []
    },
    {
      "cell_type": "code",
      "metadata": {
        "id": "B3U7cgOqzQv5"
      },
      "source": [
        "x1, y1 = P2\r\n",
        "x2, y2 = P3\r\n",
        "x2-x1"
      ],
      "execution_count": null,
      "outputs": []
    },
    {
      "cell_type": "code",
      "metadata": {
        "id": "AoT-fpPRzj8R"
      },
      "source": [
        "print(inverse(11, N))"
      ],
      "execution_count": null,
      "outputs": []
    },
    {
      "cell_type": "code",
      "metadata": {
        "id": "tjReEMTFzl9-"
      },
      "source": [
        "N/11"
      ],
      "execution_count": null,
      "outputs": []
    },
    {
      "cell_type": "code",
      "metadata": {
        "id": "yiz0zIRGzq9p"
      },
      "source": [
        "def inverse(a, p):\r\n",
        "  g, u, v = extended_gcd(a, p)\r\n",
        "  if g==1:\r\n",
        "    return u\r\n",
        "  print(a, 'has no inverse mod', p)"
      ],
      "execution_count": null,
      "outputs": []
    },
    {
      "cell_type": "code",
      "metadata": {
        "id": "N3YjdjQi0DQ2"
      },
      "source": [
        "P5 = ecp_add(P2, P3, A, B, N)\r\n",
        "P5"
      ],
      "execution_count": null,
      "outputs": []
    },
    {
      "cell_type": "code",
      "metadata": {
        "id": "6_vT_6Dv0Jhs"
      },
      "source": [
        "# Note that P = (5, 2) mod 11\r\n",
        "ecp_multiple((5, 2), 5, A, B, 11)"
      ],
      "execution_count": null,
      "outputs": []
    },
    {
      "cell_type": "code",
      "metadata": {
        "id": "e9zN0wdV6vO6"
      },
      "source": [
        "def ec_factor(N, maxn=100000):\r\n",
        "  A = random.randint(1,N)\r\n",
        "  P = (random.randint(1,N), random.randint(1,N))\r\n",
        "  B = (P[1]**2 - P[0]**3 - A*P[0]) % N\r\n",
        "  try:\r\n",
        "    for j in range(2, maxn):\r\n",
        "      P = ecp_multiple(P, j, A, B, N)\r\n",
        "    print('Test failed, try a larger maxn.')\r\n",
        "  except:\r\n",
        "    return\r\n",
        "\r\n",
        "def pollard(N, a=2, maxn=1000000):\r\n",
        "  for j in range(2, maxn):\r\n",
        "    a = power(a, j, N)\r\n",
        "    d = gcd(a-1, N)\r\n",
        "    if d != 1 and d != N:\r\n",
        "      return d\r\n",
        "  print('Test failed, try a larger maxn.')"
      ],
      "execution_count": null,
      "outputs": []
    },
    {
      "cell_type": "code",
      "metadata": {
        "id": "OslF-dIP7xr_"
      },
      "source": [
        "ec_factor(187)"
      ],
      "execution_count": null,
      "outputs": []
    },
    {
      "cell_type": "code",
      "metadata": {
        "id": "EYAsiv_F8pcC"
      },
      "source": [
        "pollard(187)"
      ],
      "execution_count": null,
      "outputs": []
    },
    {
      "cell_type": "code",
      "metadata": {
        "id": "bJDZ5VG999pb"
      },
      "source": [
        "pollard(1000003*1000033)"
      ],
      "execution_count": null,
      "outputs": []
    },
    {
      "cell_type": "code",
      "metadata": {
        "id": "moepaRH4-cxo"
      },
      "source": [
        "ec_factor(1000003*1000033)"
      ],
      "execution_count": null,
      "outputs": []
    },
    {
      "cell_type": "code",
      "metadata": {
        "id": "Ca5nyVqi_7Xw"
      },
      "source": [
        "gcd(1114003342, 1000036000099)"
      ],
      "execution_count": null,
      "outputs": []
    },
    {
      "cell_type": "code",
      "metadata": {
        "id": "8NsW6ulsC_27"
      },
      "source": [
        "def ecp_add(P, Q, A, B, p):\r\n",
        "  try:\r\n",
        "    if P == 'O':\r\n",
        "      return Q\r\n",
        "    if Q == 'O':\r\n",
        "      return P\r\n",
        "    x1, y1 = P\r\n",
        "    x2, y2 = Q\r\n",
        "    x1, y1, x2, y2 = x1%p, y1%p, x2%p, y2%p\r\n",
        "    if x1 == x2:\r\n",
        "      if y1 == (-1 * y2) % p:\r\n",
        "        return 'O' \r\n",
        "      slope = ((3*x1*x1 + A)*inverse(2*y1,p)) % p\r\n",
        "    else:\r\n",
        "      slope = ((y2 - y1)*inverse(x2 - x1, p)) % p\r\n",
        "    x3 = (slope**2 - x1 - x2) % p\r\n",
        "    y3 = (slope*(x1 - x3) - y1) % p\r\n",
        "    return (x3, y3)\r\n",
        "  except:\r\n",
        "    return gcd(x2-x1, p)\r\n",
        "\r\n",
        "def ecp_multiple(P, n, A, B, p):\r\n",
        "  try:\r\n",
        "    n = binary(n)\r\n",
        "    total = 'O'\r\n",
        "    for i in range(len(n)):\r\n",
        "      if n[len(n)-i-1]:\r\n",
        "        total = ecp_add(total, P, A, B, p)\r\n",
        "      P = ecp_add(P, P, A, B, p)\r\n",
        "    return total\r\n",
        "  except:\r\n",
        "    return total\r\n",
        "\r\n",
        "def ec_factor(N, maxn=100000):\r\n",
        "  A = random.randint(1,N)\r\n",
        "  P = (random.randint(1,N), random.randint(1,N))\r\n",
        "  B = (P[1]**2 - P[0]**3 - A*P[0]) % N\r\n",
        "  for j in range(2, maxn):\r\n",
        "    P = ecp_multiple(P, j, A, B, N)\r\n",
        "    if type(P) is int:\r\n",
        "      return P\r\n",
        "  print('Test failed, try a larger maxn.')\r\n",
        "\r\n",
        "def inverse(a, p):\r\n",
        "  g, u, v = extended_gcd(a, p)\r\n",
        "  if g==1:\r\n",
        "    return u"
      ],
      "execution_count": null,
      "outputs": []
    },
    {
      "cell_type": "code",
      "metadata": {
        "id": "QxrUijm5G6ch"
      },
      "source": [
        "ec_factor(1000003*1000033)"
      ],
      "execution_count": null,
      "outputs": []
    },
    {
      "cell_type": "code",
      "metadata": {
        "id": "Ty5bEMOYH40X"
      },
      "source": [
        "%%time\r\n",
        "pollard(3267000013*5754853343)"
      ],
      "execution_count": null,
      "outputs": []
    },
    {
      "cell_type": "code",
      "metadata": {
        "id": "l1Q-8R_uIDEo"
      },
      "source": [
        "%%time\r\n",
        "ec_factor(3267000013*5754853343)"
      ],
      "execution_count": null,
      "outputs": []
    },
    {
      "cell_type": "code",
      "metadata": {
        "id": "yZUzAs1DIGBF"
      },
      "source": [
        "def factor(N):\r\n",
        "  if is_mrprime(N):\r\n",
        "    return [N]\r\n",
        "  small_primes = {2, 3, 5, 7, 11, 13, 17, 19, 23, 29, 31}\r\n",
        "  for p in small_primes:\r\n",
        "    if N % p == 0:\r\n",
        "      return [p] + factor(N // p)\r\n",
        "  try:\r\n",
        "    print('Trying Pollard on', N)\r\n",
        "    p = pollard(N)\r\n",
        "    return sorted(factor(p) + factor(N // p))\r\n",
        "  except:\r\n",
        "    try:\r\n",
        "      print('Trying elliptic curves on', N)\r\n",
        "      p = ec_factor(N)\r\n",
        "      return sorted(factor(p) + factor(N // p))\r\n",
        "    except:\r\n",
        "      print('Partial factorization found:')\r\n",
        "      return [N]"
      ],
      "execution_count": null,
      "outputs": []
    },
    {
      "cell_type": "code",
      "metadata": {
        "id": "lv4Bpti4NDmp"
      },
      "source": [
        "factor(4789342352)"
      ],
      "execution_count": null,
      "outputs": []
    },
    {
      "cell_type": "code",
      "metadata": {
        "id": "pdYrxOFUJeto"
      },
      "source": [
        "is_mrprime(280013)"
      ],
      "execution_count": null,
      "outputs": []
    },
    {
      "cell_type": "code",
      "metadata": {
        "id": "I71SJY2ZNUz3"
      },
      "source": [
        "factor(56819237489)"
      ],
      "execution_count": null,
      "outputs": []
    },
    {
      "cell_type": "code",
      "metadata": {
        "id": "9I7weICKOcE0"
      },
      "source": [
        "factor(1561892637891751892743)"
      ],
      "execution_count": null,
      "outputs": []
    },
    {
      "cell_type": "code",
      "metadata": {
        "id": "3QoaxhpDOdsQ"
      },
      "source": [
        "is_mrprime(1561892637891751892743)"
      ],
      "execution_count": null,
      "outputs": []
    },
    {
      "cell_type": "code",
      "metadata": {
        "id": "NtCuiW-hOhuF"
      },
      "source": [
        "factor(138569823748975982237582934)"
      ],
      "execution_count": null,
      "outputs": []
    },
    {
      "cell_type": "code",
      "metadata": {
        "id": "1D8wQqN8Ojb7"
      },
      "source": [
        "is_mrprime(195023), is_mrprime(77815721), is_mrprime(80095964357)"
      ],
      "execution_count": null,
      "outputs": []
    },
    {
      "cell_type": "code",
      "metadata": {
        "id": "JY5yMjAYOnUX"
      },
      "source": [
        "factor(1264918273891751892738192576189237128934723895623984)"
      ],
      "execution_count": null,
      "outputs": []
    },
    {
      "cell_type": "code",
      "metadata": {
        "id": "OoajcrkCO8Yh"
      },
      "source": [
        "is_mrprime(241513), is_mrprime(191061209), is_mrprime(571094786047815554843356937909161649)"
      ],
      "execution_count": null,
      "outputs": []
    },
    {
      "cell_type": "code",
      "metadata": {
        "id": "d1r_6dZ0QkLP"
      },
      "source": [
        "2*2*2*2*3*241513*191061209*571094786047815554843356937909161649 == 1264918273891751892738192576189237128934723895623984"
      ],
      "execution_count": null,
      "outputs": []
    },
    {
      "cell_type": "code",
      "metadata": {
        "id": "MSTcdY6YPPXR"
      },
      "source": [
        "factor(157198237189561982371892561892378192561982371892561829473182975819236819237895712)"
      ],
      "execution_count": null,
      "outputs": []
    },
    {
      "cell_type": "code",
      "metadata": {
        "id": "qAdEujSqPqvy"
      },
      "source": [
        "factor(5789734893652893748917238516083974018956128093471082563012893740182936512890374)"
      ],
      "execution_count": null,
      "outputs": []
    },
    {
      "cell_type": "code",
      "metadata": {
        "id": "xCWN464WQ0D7"
      },
      "source": [
        ""
      ],
      "execution_count": null,
      "outputs": []
    }
  ]
}