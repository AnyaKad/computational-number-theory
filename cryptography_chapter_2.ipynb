{
  "nbformat": 4,
  "nbformat_minor": 0,
  "metadata": {
    "colab": {
      "name": "cryptography-chapter-2.ipynb",
      "private_outputs": true,
      "provenance": [],
      "authorship_tag": "ABX9TyMwIomwGyXaWLTNviNUskEi",
      "include_colab_link": true
    },
    "kernelspec": {
      "name": "python3",
      "display_name": "Python 3"
    }
  },
  "cells": [
    {
      "cell_type": "markdown",
      "metadata": {
        "id": "view-in-github",
        "colab_type": "text"
      },
      "source": [
        "<a href=\"https://colab.research.google.com/github/kevinrchilders/computational-number-theory/blob/master/cryptography_chapter_2.ipynb\" target=\"_parent\"><img src=\"https://colab.research.google.com/assets/colab-badge.svg\" alt=\"Open In Colab\"/></a>"
      ]
    },
    {
      "cell_type": "code",
      "metadata": {
        "id": "yQ1kaaICktmZ"
      },
      "source": [
        "import numpy as np\r\n",
        "import matplotlib.pyplot as plt"
      ],
      "execution_count": null,
      "outputs": []
    },
    {
      "cell_type": "markdown",
      "metadata": {
        "id": "nL0XUYYtyRUe"
      },
      "source": [
        "# Picturing the Discrete Logarithm Problem"
      ]
    },
    {
      "cell_type": "code",
      "metadata": {
        "id": "xKFsFQ3Gk6QO"
      },
      "source": [
        "# Fast powering algorithm and gcd algorithm\r\n",
        "\r\n",
        "def binary(n):\r\n",
        "  binary_repn = []\r\n",
        "  if n > 1:\r\n",
        "    binary_repn = binary(n // 2)\r\n",
        "  binary_repn.append(n % 2)\r\n",
        "  return binary_repn\r\n",
        "\r\n",
        "def power(g, A, N):\r\n",
        "  A = binary(A)\r\n",
        "  total=1\r\n",
        "  for i in range(len(A)):\r\n",
        "    if A[len(A)-i-1]:\r\n",
        "      total = total*g % N\r\n",
        "    g = (g*g) % N\r\n",
        "  return total\r\n",
        "\r\n",
        "def gcd(a, b):\r\n",
        "  return a if b==0 else gcd(b, a%b)"
      ],
      "execution_count": null,
      "outputs": []
    },
    {
      "cell_type": "code",
      "metadata": {
        "id": "_J0PmI38lCL6"
      },
      "source": [
        "# Plot of an exponential function in R\r\n",
        "\r\n",
        "x = np.arange(0, 3, 0.1)\r\n",
        "plt.figure(figsize=(12,8))\r\n",
        "plt.plot(x, np.exp(x))"
      ],
      "execution_count": null,
      "outputs": []
    },
    {
      "cell_type": "code",
      "metadata": {
        "id": "HZ7fS0rulk9I"
      },
      "source": [
        "# Plot of an exponential function in a finite field with 941 elements.\r\n",
        "\r\n",
        "x = np.arange(941)\r\n",
        "y = [power(627, i, 941) for i in x]\r\n",
        "plt.figure(figsize=(12,8))\r\n",
        "plt.scatter(x, y)"
      ],
      "execution_count": null,
      "outputs": []
    },
    {
      "cell_type": "markdown",
      "metadata": {
        "id": "_LgwmRA0yZC2"
      },
      "source": [
        "# Diffie-Hellman key exchange"
      ]
    },
    {
      "cell_type": "code",
      "metadata": {
        "id": "pJnxrniql4Mj"
      },
      "source": [
        "# Example of Diffie-Hellman key exchange\r\n",
        "\r\n",
        "p=941 # Publicly agreed upon prime\r\n",
        "g=627 # Publicly agreed upon element of F_p\r\n",
        "print('p =', p)\r\n",
        "print('g =', g)\r\n",
        "\r\n",
        "a = 347 # Chosen secretly by Alice\r\n",
        "b = 781 # Chosen secretly by Bob\r\n",
        "\r\n",
        "# Exchanged publicly\r\n",
        "A = power(g, a, p)\r\n",
        "B = power(g, b, p)\r\n",
        "print('A =', A)\r\n",
        "print('B =', B)\r\n",
        "\r\n",
        "alice_key = power(B, a, p)  # Key as computed by Alice in secret\r\n",
        "bob_key = power(A, b, p)    # Key as computed by Bob is secret\r\n",
        "print('(Key according to Alice =', alice_key, ')')\r\n",
        "print('(Key according to Bob =', bob_key, ')')"
      ],
      "execution_count": null,
      "outputs": []
    },
    {
      "cell_type": "code",
      "metadata": {
        "id": "GUkpvMU9tzNp"
      },
      "source": [
        "# Eve could attempt to solve 390 = 627^a (mod 941) to deduce the key\r\n",
        "# These numbers are much to small for security\r\n",
        "\r\n",
        "%%time\r\n",
        "\r\n",
        "i=0\r\n",
        "c=1\r\n",
        "while c != A:\r\n",
        "  i += 1\r\n",
        "  c = power(g, i, p)\r\n",
        "print('a = ', i)\r\n",
        "print('secret key = ', power(B, a, p))"
      ],
      "execution_count": null,
      "outputs": []
    },
    {
      "cell_type": "code",
      "metadata": {
        "id": "OoPMt7iUu2BA"
      },
      "source": [
        "# This example uses a 50 digit prime\r\n",
        "%%time \r\n",
        "\r\n",
        "p = 55466907138731394249231482240882676455459190111149\r\n",
        "g = 27475823498758492384758293474883297347759810489234\r\n",
        "print('p =', p)\r\n",
        "print('g =', g)\r\n",
        "\r\n",
        "a = 123457489829374957843291023847058708912734897\r\n",
        "b = 47819237874848923\r\n",
        "\r\n",
        "# Exchanged publicly\r\n",
        "A = power(g, a, p)\r\n",
        "B = power(g, b, p)\r\n",
        "print('A =', A)\r\n",
        "print('B =', B)\r\n",
        "\r\n",
        "alice_key = power(B, a, p)  # Key as computed by Alice in secret\r\n",
        "bob_key = power(A, b, p)    # Key as computed by Bob is secret\r\n",
        "print('(Key according to Alice =', alice_key, ')')\r\n",
        "print('(Key according to Bob =', bob_key, ')')\r\n",
        "print('Keys match:', alice_key==bob_key)"
      ],
      "execution_count": null,
      "outputs": []
    },
    {
      "cell_type": "code",
      "metadata": {
        "id": "EQmBAHWGwff_"
      },
      "source": [
        "# Eve's attempted attack\r\n",
        "\r\n",
        "i=0\r\n",
        "c=1\r\n",
        "while c != A:\r\n",
        "  i += 1\r\n",
        "  if i%100000 == 0:\r\n",
        "    print(100*i/p,'percent done!')\r\n",
        "  c = power(g, i, p)\r\n",
        "print('a = ', i)\r\n",
        "print('secret key = ', power(B, a, p))"
      ],
      "execution_count": null,
      "outputs": []
    },
    {
      "cell_type": "markdown",
      "metadata": {
        "id": "gGi7zk_S104c"
      },
      "source": [
        "# Elgamal PKC"
      ]
    },
    {
      "cell_type": "code",
      "metadata": {
        "id": "C5rACVf8w75I"
      },
      "source": [
        "# A small example of Elgamal PKC\r\n",
        "\r\n",
        "p = 467 # Public prime\r\n",
        "g = 2   # Public element of F_p\r\n",
        "print('p =', p)\r\n",
        "print('g =', g)\r\n",
        "\r\n",
        "a = 153             # Alice's secret key\r\n",
        "A = power(g, a, p)  # Published publicly\r\n",
        "print('A = ', A)\r\n",
        "\r\n",
        "# Bob wants to send the secret message m = 331\r\n",
        "m = 331\r\n",
        "print('(Secret message to be encrypted by Bob: ', m, ')')\r\n",
        "k = 197 # Chosen randomly in F_p\r\n",
        "c1 = power(g, k, p)\r\n",
        "c2 = (m * power(A, k, p)) % p\r\n",
        "print('Encrypted message: (', c1, ',', c2, ')')\r\n",
        "\r\n",
        "# Alice decrypts by computing c1^(-a)*c2 (mod p)\r\n",
        "message = (power(c1, p-1-a, p) * c2) % p\r\n",
        "print('(Secret message decoded by Alice: ', message, ')')"
      ],
      "execution_count": null,
      "outputs": []
    },
    {
      "cell_type": "markdown",
      "metadata": {
        "id": "aZu7tQxOVmVm"
      },
      "source": [
        "# Shank's Babystep-Giantstep algorithm"
      ]
    },
    {
      "cell_type": "code",
      "metadata": {
        "id": "qget0Buhd2bV"
      },
      "source": [
        "# A brute force solution to DLP and Shank's Babystep-giantstep solution to DLP\r\n",
        "\r\n",
        "def brute_dlp(g, h, p):\r\n",
        "  x=0\r\n",
        "  c=1\r\n",
        "  while c != h:\r\n",
        "    x += 1\r\n",
        "    c = (c*g) % p\r\n",
        "  return x\r\n",
        "\r\n",
        "\r\n",
        "def shank(g, h, p):\r\n",
        "  n = int(np.floor(np.sqrt(p-1))+1) # An iteger larger than sqrt(p-1)\r\n",
        "  a=1                               # First babystep\r\n",
        "  b=h                               # First giantstep\r\n",
        "  A = []                            # List of babysteps\r\n",
        "  B = []                            # List of giantsteps\r\n",
        "  u=power(g, p-1-n, p)              # g^(-n) for giantsteps\r\n",
        "\r\n",
        "  # Fill out lists of steps\r\n",
        "  for _ in range(n):\r\n",
        "    A.append(a)\r\n",
        "    B.append(b)\r\n",
        "    a = (a*g) % p\r\n",
        "    b = (b*u) % p\r\n",
        "\r\n",
        "  # Find a common value on the two lists\r\n",
        "  C = sorted(A + B)\r\n",
        "  C1 = C[1:] + [C[0]]\r\n",
        "  i=0\r\n",
        "  while C[i] != C1[i]:\r\n",
        "    i += 1\r\n",
        "  common = C[i]\r\n",
        "\r\n",
        "  # Find where this common value occus on each list\r\n",
        "  i=0\r\n",
        "  while A[i] != common:\r\n",
        "    i += 1\r\n",
        "  j=0\r\n",
        "  while B[j] != common:\r\n",
        "    j += 1\r\n",
        "\r\n",
        "  # Find a solutions to DLP\r\n",
        "  return i + n*j"
      ],
      "execution_count": null,
      "outputs": []
    },
    {
      "cell_type": "code",
      "metadata": {
        "id": "YANfuU7pY32a"
      },
      "source": [
        "%%time\r\n",
        "brute_dlp(47123, 574821237, 3267000013)"
      ],
      "execution_count": null,
      "outputs": []
    },
    {
      "cell_type": "code",
      "metadata": {
        "id": "9_KYzqT2in9r"
      },
      "source": [
        "power(47123, 92753857, 3267000013) == 574821237"
      ],
      "execution_count": null,
      "outputs": []
    },
    {
      "cell_type": "code",
      "metadata": {
        "id": "i8x_yNYPYcYn"
      },
      "source": [
        "%%time\r\n",
        "shank(47123, 574821237, 3267000013)"
      ],
      "execution_count": null,
      "outputs": []
    },
    {
      "cell_type": "code",
      "metadata": {
        "id": "sN4W02Slzucf"
      },
      "source": [
        ""
      ],
      "execution_count": null,
      "outputs": []
    }
  ]
}