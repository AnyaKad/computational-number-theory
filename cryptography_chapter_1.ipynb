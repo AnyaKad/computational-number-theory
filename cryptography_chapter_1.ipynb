{
  "nbformat": 4,
  "nbformat_minor": 0,
  "metadata": {
    "colab": {
      "name": "cryptography-chapter-1.ipynb",
      "private_outputs": true,
      "provenance": [],
      "authorship_tag": "ABX9TyMt8beTT8bzMjnqDjUBUOEY",
      "include_colab_link": true
    },
    "kernelspec": {
      "name": "python3",
      "display_name": "Python 3"
    }
  },
  "cells": [
    {
      "cell_type": "markdown",
      "metadata": {
        "id": "view-in-github",
        "colab_type": "text"
      },
      "source": [
        "<a href=\"https://colab.research.google.com/github/kevinrchilders/computational-number-theory/blob/master/cryptography_chapter_1.ipynb\" target=\"_parent\"><img src=\"https://colab.research.google.com/assets/colab-badge.svg\" alt=\"Open In Colab\"/></a>"
      ]
    },
    {
      "cell_type": "code",
      "metadata": {
        "id": "uoj8pSKrPD68"
      },
      "source": [
        "from collections import Counter\n",
        "import numpy as np"
      ],
      "execution_count": null,
      "outputs": []
    },
    {
      "cell_type": "markdown",
      "metadata": {
        "id": "OoWY7n0loJnz"
      },
      "source": [
        "# Shift cipher"
      ]
    },
    {
      "cell_type": "code",
      "metadata": {
        "id": "HAggEATLPNV2"
      },
      "source": [
        "# Functions to encode/decode using a shift cipher\n",
        "\n",
        "def shift_encode(plaintext, shift):\n",
        "    alphabet = 'abcdefghijklmnopqrstuvwxyz'\n",
        "    ciphertext = ''\n",
        "    for char in plaintext:\n",
        "      old_index = alphabet.find(char)\n",
        "      new_index = (old_index + shift) % 26\n",
        "      ciphertext += alphabet[new_index]\n",
        "    return ciphertext\n",
        "\n",
        "def shift_decode(ciphertext, shift):\n",
        "  alphabet = 'abcdefghijklmnopqrstuvwxyz'\n",
        "  plaintext = ''\n",
        "  for char in ciphertext:\n",
        "      old_index = alphabet.find(char)\n",
        "      new_index = (old_index - shift) % 26\n",
        "      plaintext += alphabet[new_index]\n",
        "  return plaintext"
      ],
      "execution_count": null,
      "outputs": []
    },
    {
      "cell_type": "code",
      "metadata": {
        "id": "bOQE5zyGQWLC"
      },
      "source": [
        "# Encode the sample text \"Attack at dawn!\"\n",
        "\n",
        "cipher = shift_encode('attackatdawn', 4)\n",
        "print(cipher)"
      ],
      "execution_count": null,
      "outputs": []
    },
    {
      "cell_type": "code",
      "metadata": {
        "id": "uwDEDp0QQvv7"
      },
      "source": [
        "# Decode the above ciphertext\n",
        "\n",
        "print(shift_decode(cipher, 4))"
      ],
      "execution_count": null,
      "outputs": []
    },
    {
      "cell_type": "code",
      "metadata": {
        "id": "zYTxl2eYRtPM"
      },
      "source": [
        "# Now we try to decipher the following message, which we suspect was encoded using a shift cipher.\n",
        "\n",
        "ciphertext = 'qebdliafprkaboqebqefoaqobb'\n",
        "\n",
        "for i in range(26):\n",
        "  print(i, shift_decode(ciphertext, i))"
      ],
      "execution_count": null,
      "outputs": []
    },
    {
      "cell_type": "markdown",
      "metadata": {
        "id": "u7d_OWEHoqC3"
      },
      "source": [
        "# More general substitution ciphers"
      ]
    },
    {
      "cell_type": "code",
      "metadata": {
        "id": "OsfyN6RtUuRF"
      },
      "source": [
        "# Suppose we wish to decipher the following ciphertext, which we suspect was encoded using a substitution cipher.\n",
        "\n",
        "ciphertext = 'LOJUM YLJME PDYVJ QXTDV SVJNL DMTJZ WMJGG YSNDL UYLEO SKDVC GEPJS MDIPD NEJSK DNJTJ LSKDL OSVDV DNGYN VSGLL OSCIO LGOYG ESNEP CGYSN GUJMJ DGYNK DPPYX PJDGG SVDNT WMSWS GYLYS NGSKJ CEPYQ GSGLD MLPYN IUSCP QOYGM JGCPL GDWWJ DMLSL OJCNY NYLYD LJQLO DLCNL YPLOJ TPJDM NJQLO JWMSE JGGJG XTUOY EOOJO DQDMM YBJQD LLOJV LOJTV YIOLU JPPES NGYQJ MOYVD GDNJE MSVDN EJM'"
      ],
      "execution_count": null,
      "outputs": []
    },
    {
      "cell_type": "code",
      "metadata": {
        "id": "o7Efx2IIV0r5"
      },
      "source": [
        "# Remove the spaces\n",
        "\n",
        "ciphertext = ciphertext.replace(' ', '')"
      ],
      "execution_count": null,
      "outputs": []
    },
    {
      "cell_type": "code",
      "metadata": {
        "id": "_Uxu-pxupX4H"
      },
      "source": [
        "# Some functions for decrypting\n",
        "\n",
        "def print_for_analysis(ciphertext, plaintext):\n",
        "  for i in range(len(ciphertext) // 50 + 1):\n",
        "    print(ciphertext[i*50 : (i+1)*50])\n",
        "    print(plaintext[i*50 : (i+1)*50])\n",
        "    print()\n",
        "\n",
        "def replace(cipherchar, plainchar, ciphertext, plaintext):\n",
        "  text = ''\n",
        "  for i in range(len(ciphertext)):\n",
        "    if ciphertext[i] == cipherchar:\n",
        "      text += plainchar\n",
        "    else:\n",
        "      text += plaintext[i]\n",
        "  return text"
      ],
      "execution_count": null,
      "outputs": []
    },
    {
      "cell_type": "code",
      "metadata": {
        "id": "o7jnIeQbX8qA"
      },
      "source": [
        "# Initiate plaintext with no characters known\n",
        "\n",
        "plaintext = ''\n",
        "for i in range(len(ciphertext)):\n",
        "  plaintext += '-'\n",
        "\n",
        "print_for_analysis(ciphertext, plaintext)"
      ],
      "execution_count": null,
      "outputs": []
    },
    {
      "cell_type": "code",
      "metadata": {
        "id": "J6zxHJUKV5rL"
      },
      "source": [
        "# Analyze the letter frequencies.\n",
        "# English letters listed from most frequent to least frequent are\n",
        "# ETAONRISHDLFCMUGYPWBVKXJQZ\n",
        "\n",
        "letter_counter = Counter(ciphertext)\n",
        "letter_counter.most_common()"
      ],
      "execution_count": null,
      "outputs": []
    },
    {
      "cell_type": "code",
      "metadata": {
        "id": "bfA2IHJRWIS-"
      },
      "source": [
        "# Analyze the bigram frequencies.\n",
        "# The most frequent English bigrams are\n",
        "# TH, HE, AN, RE, ER, IN, ON, AT, ND, ST ES, EN, OF, TE, ED\n",
        "\n",
        "bigrams = []\n",
        "for i in range(len(ciphertext)-1):\n",
        "  bigrams += [ciphertext[i:i+2]]\n",
        "bi_counter = Counter(bigrams)\n",
        "bi_counter.most_common(15)"
      ],
      "execution_count": null,
      "outputs": []
    },
    {
      "cell_type": "code",
      "metadata": {
        "id": "SHwOWfLnqDhm"
      },
      "source": [
        "# Replace a letter, and print for analysis\n",
        "\n",
        "cipherchar = 'L'\n",
        "plainchar = 't'\n",
        "\n",
        "plaintext = replace(cipherchar, plainchar, ciphertext, plaintext)\n",
        "print_for_analysis(ciphertext, plaintext)"
      ],
      "execution_count": null,
      "outputs": []
    },
    {
      "cell_type": "markdown",
      "metadata": {
        "id": "-8ulYgukysYq"
      },
      "source": [
        "---\n",
        "---\n",
        "\n",
        "# gcd algortithms"
      ]
    },
    {
      "cell_type": "code",
      "metadata": {
        "id": "P14zbr6lrdzh"
      },
      "source": [
        "# Find all divisors by trial division\n",
        "\n",
        "def find_divisors(n):\n",
        "  divisors = []\n",
        "  for i in range(n):\n",
        "    if n % (i+1) == 0:\n",
        "      divisors.append(i+1)\n",
        "  return divisors\n",
        "\n",
        "# Find the gcd of a and b by listing divisors and finding the greatest common element\n",
        "\n",
        "def slow_gcd(a, b):\n",
        "  divisors_a = find_divisors(a)\n",
        "  divisors_b = find_divisors(b)\n",
        "  gcd = 1\n",
        "  for d in divisors_a:\n",
        "    if d in divisors_b:\n",
        "      gcd = d\n",
        "  return gcd"
      ],
      "execution_count": null,
      "outputs": []
    },
    {
      "cell_type": "code",
      "metadata": {
        "id": "CDgEJT-vzUOC"
      },
      "source": [
        "# Test the slow gcd method on 8 digit numbers\n",
        "\n",
        "%%time\n",
        "print('gcd(12345678, 98765432)=',slow_gcd(12345678, 98765432))"
      ],
      "execution_count": null,
      "outputs": []
    },
    {
      "cell_type": "code",
      "metadata": {
        "id": "NKALQWi70-Ze"
      },
      "source": [
        "# Find the gcd using the Euclidean algorithm\n",
        "\n",
        "def gcd(a, b):\n",
        "  return a if b==0 else gcd(b, a%b)"
      ],
      "execution_count": null,
      "outputs": []
    },
    {
      "cell_type": "code",
      "metadata": {
        "id": "iJ4ISi6T7zxH"
      },
      "source": [
        "# Test the fast gcd method on 8 digit \n",
        "\n",
        "%%time\n",
        "print('gcd(12345678, 98765432)=',gcd(12345678, 98765432))"
      ],
      "execution_count": null,
      "outputs": []
    },
    {
      "cell_type": "code",
      "metadata": {
        "id": "NNsLFwCb74lN"
      },
      "source": [
        "# Test the fast gcd method on 100 digit numbers\n",
        "\n",
        "%%time\n",
        "a = 1823740183265018273401801237480721603587120384718203751203741023874028935712890085748295743923854540\n",
        "b = 1234750389748091273895760685018293740871230895762108397402478912374875748392889458493020395884930200\n",
        "print('gcd(a,b)=',gcd(a,b))"
      ],
      "execution_count": null,
      "outputs": []
    },
    {
      "cell_type": "code",
      "metadata": {
        "id": "XPNPGO1o9fkJ"
      },
      "source": [
        "# Approximate number of steps to find gcd of 100 digit numbers: 2log_2(10^100) + 1\n",
        "\n",
        "200*np.log2(10) + 1"
      ],
      "execution_count": null,
      "outputs": []
    },
    {
      "cell_type": "markdown",
      "metadata": {
        "id": "o9r1yzZSPH2A"
      },
      "source": [
        "# Powering algorithms modulo N"
      ]
    },
    {
      "cell_type": "code",
      "metadata": {
        "id": "0fQ8xA_lCbIL"
      },
      "source": [
        "# Slow powering by repeated multiplication\n",
        "\n",
        "def slow_power(g, A, N):\n",
        "  x = 1\n",
        "  for _ in range(A):\n",
        "    x = (x*g) % N\n",
        "  return x"
      ],
      "execution_count": null,
      "outputs": []
    },
    {
      "cell_type": "code",
      "metadata": {
        "id": "0T0EK0tLPdw8"
      },
      "source": [
        "# Compute 2 to the 10**8 modulo 741 using the slow powering algorithm.\n",
        "\n",
        "%%time\n",
        "slow_power(2,10**8,741)"
      ],
      "execution_count": null,
      "outputs": []
    },
    {
      "cell_type": "code",
      "metadata": {
        "id": "KpZWtz6RPpoP"
      },
      "source": [
        "# Fast powering algorithm\n",
        "\n",
        "def binary(n):\n",
        "  binary_repn = []\n",
        "  if n > 1:\n",
        "    binary_repn = binary(n // 2)\n",
        "  binary_repn.append(n % 2)\n",
        "  return binary_repn\n",
        "\n",
        "def power(g, A, N):\n",
        "  A = binary(A)\n",
        "  total=1\n",
        "  for i in range(len(A)):\n",
        "    if A[len(A)-i-1]:\n",
        "      total = total*g % N\n",
        "    g = (g*g) % N\n",
        "  return total"
      ],
      "execution_count": null,
      "outputs": []
    },
    {
      "cell_type": "code",
      "metadata": {
        "id": "eE74JHoESUR_"
      },
      "source": [
        "# Compute 2 to the 10**8 modulo 741 using the fast powering algorithm.\n",
        "\n",
        "%%time\n",
        "power(2,10**8,741)"
      ],
      "execution_count": null,
      "outputs": []
    },
    {
      "cell_type": "code",
      "metadata": {
        "id": "VB_Cu1iIVM1H"
      },
      "source": [
        "# Compute 5 to the 10**100 modulo 741 using the fast powering algorithm.\n",
        "\n",
        "%%time\n",
        "power(7,10**100,741)"
      ],
      "execution_count": null,
      "outputs": []
    },
    {
      "cell_type": "markdown",
      "metadata": {
        "id": "obn1Q8K5kQfT"
      },
      "source": [
        "# Primality testing using Fermat's Little Theorem"
      ]
    },
    {
      "cell_type": "code",
      "metadata": {
        "id": "ciGwp3a-YFSq"
      },
      "source": [
        "# Is 15485207 prime?  If so, the following calculation would yield 1 by Fermat's Little Theorem\n",
        "\n",
        "m = 15485207\n",
        "\n",
        "power(2, m-1, m)"
      ],
      "execution_count": null,
      "outputs": []
    },
    {
      "cell_type": "code",
      "metadata": {
        "id": "9bPiih8newMp"
      },
      "source": [
        "# Here we can see a factorization\n",
        "\n",
        "15485207/3853"
      ],
      "execution_count": null,
      "outputs": []
    },
    {
      "cell_type": "code",
      "metadata": {
        "id": "tkBUes_8gpii"
      },
      "source": [
        ""
      ],
      "execution_count": null,
      "outputs": []
    }
  ]
}